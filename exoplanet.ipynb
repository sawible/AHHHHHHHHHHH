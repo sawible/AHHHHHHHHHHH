{
  "nbformat": 4,
  "nbformat_minor": 0,
  "metadata": {
    "colab": {
      "provenance": [],
      "authorship_tag": "ABX9TyMNQq6+2MN5nnc5dmnEVvi2",
      "include_colab_link": true
    },
    "kernelspec": {
      "name": "python3",
      "display_name": "Python 3"
    },
    "language_info": {
      "name": "python"
    }
  },
  "cells": [
    {
      "cell_type": "markdown",
      "metadata": {
        "id": "view-in-github",
        "colab_type": "text"
      },
      "source": [
        "<a href=\"https://colab.research.google.com/github/sawible/AHHHHHHHHHHH/blob/main/exoplanet.ipynb\" target=\"_parent\"><img src=\"https://colab.research.google.com/assets/colab-badge.svg\" alt=\"Open In Colab\"/></a>"
      ]
    },
    {
      "cell_type": "code",
      "execution_count": null,
      "metadata": {
        "id": "d5KorQTr93qi"
      },
      "outputs": [],
      "source": [
        "import numpy as np\n",
        "import astropy.units as u\n",
        "import astropy.constants as c\n",
        "import matplotlib.pyplot as plt\n",
        "import astropy.io.ascii"
      ]
    },
    {
      "cell_type": "markdown",
      "source": [
        "Age, size -> structure, life, mass, chemical composition -> life"
      ],
      "metadata": {
        "id": "PlhbfYk14cdJ"
      }
    },
    {
      "cell_type": "markdown",
      "source": [
        "$\\delta = (\\frac{R_{planet}}{R_{star}})^2$\n",
        "\n",
        "$R_{planet} = \\sqrt(\\delta) * R_{star}$"
      ],
      "metadata": {
        "id": "mha5Y2RB5m4q"
      }
    },
    {
      "cell_type": "code",
      "source": [
        "delta = (u.earthRad / u.solRad)**2\n",
        "print(delta.decompose())"
      ],
      "metadata": {
        "colab": {
          "base_uri": "https://localhost:8080/"
        },
        "id": "4_81_Qt850Kd",
        "outputId": "bf5c4d1f-b9ec-4e1d-b3ef-0187806c914f"
      },
      "execution_count": null,
      "outputs": [
        {
          "output_type": "stream",
          "name": "stdout",
          "text": [
            "8.40502e-05\n"
          ]
        }
      ]
    },
    {
      "cell_type": "code",
      "source": [
        "delta_js = (u.jupiterRad / u.solRad)**2\n",
        "print(delta_js.decompose()) ## 1% flux drop when jupiter is in front of the sun"
      ],
      "metadata": {
        "colab": {
          "base_uri": "https://localhost:8080/"
        },
        "id": "RsvVuyyd6X0X",
        "outputId": "8fb198f1-c838-4d37-e5aa-20eb1fffd7b4"
      },
      "execution_count": null,
      "outputs": [
        {
          "output_type": "stream",
          "name": "stdout",
          "text": [
            "0.0105602\n"
          ]
        }
      ]
    },
    {
      "cell_type": "markdown",
      "source": [
        "$\\rho = mv$\n",
        "\n",
        "$M_{s}V_{s}=m_{p}v_{p}$\n",
        "\n",
        "$V_{s} = \\frac{m_{p}}{M_{s}}v_{p}$\n",
        "\n",
        "$v_{p} = \\sqrt(\\frac{GM_{s}}{a})$\n",
        "\n",
        "$a$ = axis of rotation"
      ],
      "metadata": {
        "id": "-N5RVbQq7vqM"
      }
    },
    {
      "cell_type": "code",
      "source": [
        "v_e = np.sqrt(c.G * u.solMass / u.AU)\n",
        "print(v_e.decompose()) # about 30 km / s"
      ],
      "metadata": {
        "colab": {
          "base_uri": "https://localhost:8080/"
        },
        "id": "Ts55BlG08sPq",
        "outputId": "0bba7fa7-fabf-46cc-f3a1-ca187dcd0ac0"
      },
      "execution_count": null,
      "outputs": [
        {
          "output_type": "stream",
          "name": "stdout",
          "text": [
            "29784.691829676933 m / s\n"
          ]
        }
      ]
    },
    {
      "cell_type": "code",
      "source": [
        "v_sun = u.earthMass / u.solMass * v_e\n",
        "print(v_sun.decompose()) # about 9 cm / s"
      ],
      "metadata": {
        "colab": {
          "base_uri": "https://localhost:8080/"
        },
        "id": "5-Usw1w19hlN",
        "outputId": "b9b8d45b-1e07-4a2f-f60c-a7b07d47e63e"
      },
      "execution_count": null,
      "outputs": [
        {
          "output_type": "stream",
          "name": "stdout",
          "text": [
            "0.08945800466923791 m / s\n"
          ]
        }
      ]
    },
    {
      "cell_type": "markdown",
      "source": [
        "$V_{s} = \\frac{m_{p}v_{p}}{M_{s}} = \\frac{m_{p}\\sqrt(\\frac{GM_{}s}{a})}{M_{s}}$\n",
        "\n",
        "$\\frac{a^3}{p^2} = \\frac{GM}{(2\\pi)^2}$\n",
        "\n",
        "$V_{s}$ ~ $m_{p}a^{-1/2}$\n",
        "\n",
        "$a$ ~ $p^{2/3}$\n",
        "\n",
        "$V_{s} = 0.09 m/s * \\frac{m_{p}}{m_{earth}} * (\\frac{p}{1 yr})^{-1/3}$"
      ],
      "metadata": {
        "id": "Z9OW0853_ZiH"
      }
    },
    {
      "cell_type": "code",
      "source": [
        "v_j = 0.09 * u.m/u.s * (u.jupiterMass.to(u.kg) / u.earthMass.to(u.kg)) * (11.9*u.yr / u.yr)**(-1/3)\n",
        "print(v_j)"
      ],
      "metadata": {
        "colab": {
          "base_uri": "https://localhost:8080/"
        },
        "id": "DG1ARA51CDkG",
        "outputId": "67505005-fbee-4ba2-d610-9cbc0e6e80d6"
      },
      "execution_count": null,
      "outputs": [
        {
          "output_type": "stream",
          "name": "stdout",
          "text": [
            "12.529091077198904 m / s\n"
          ]
        }
      ]
    },
    {
      "cell_type": "code",
      "source": [
        "rho_e = u.earthMass / (4 * np.pi * u.earthRad**3 / 3)\n",
        "print(rho_e.to(u.g/u.cm**3))"
      ],
      "metadata": {
        "colab": {
          "base_uri": "https://localhost:8080/"
        },
        "id": "7x8kRw8mDAPu",
        "outputId": "25b855c4-11a2-4f7d-844b-5c6f2c3a1496"
      },
      "execution_count": null,
      "outputs": [
        {
          "output_type": "stream",
          "name": "stdout",
          "text": [
            "5.495021865555213 g / cm3\n"
          ]
        }
      ]
    }
  ]
}