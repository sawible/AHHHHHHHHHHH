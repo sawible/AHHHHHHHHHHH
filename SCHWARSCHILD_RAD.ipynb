{
  "nbformat": 4,
  "nbformat_minor": 0,
  "metadata": {
    "colab": {
      "provenance": [],
      "authorship_tag": "ABX9TyO2K1bLSVN3UScJXw/Ydabe",
      "include_colab_link": true
    },
    "kernelspec": {
      "name": "python3",
      "display_name": "Python 3"
    },
    "language_info": {
      "name": "python"
    }
  },
  "cells": [
    {
      "cell_type": "markdown",
      "metadata": {
        "id": "view-in-github",
        "colab_type": "text"
      },
      "source": [
        "<a href=\"https://colab.research.google.com/github/sawible/AHHHHHHHHHHH/blob/main/SCHWARSCHILD_RAD.ipynb\" target=\"_parent\"><img src=\"https://colab.research.google.com/assets/colab-badge.svg\" alt=\"Open In Colab\"/></a>"
      ]
    },
    {
      "cell_type": "code",
      "execution_count": 1,
      "metadata": {
        "id": "zt7tI-wqNZid"
      },
      "outputs": [],
      "source": [
        "import astropy.constants as const # import package for constants\n",
        "import astropy.units as u # import package for units\n",
        "import numpy as np # import package for math"
      ]
    },
    {
      "cell_type": "code",
      "source": [
        "G = const.G # defines G as Gravitational Constant\n",
        "M = 1 * const.u # defines M as one solar mass\n",
        "c = 1 * const.c # defines c as speed of light\n",
        "\n",
        "print(G) # Print Gravitational constant\n",
        "print(\"\") # Print line break\n",
        "print(M.to(u.kg)) # Prints M in units of kg\n",
        "print(\"\") # Print line break\n",
        "print(c) # Print speed of light"
      ],
      "metadata": {
        "colab": {
          "base_uri": "https://localhost:8080/"
        },
        "id": "T7FDqbdDOFCX",
        "outputId": "944b52fe-9b32-4283-a016-ade301c3f67d"
      },
      "execution_count": 25,
      "outputs": [
        {
          "output_type": "stream",
          "name": "stdout",
          "text": [
            "  Name   = Gravitational constant\n",
            "  Value  = 6.6743e-11\n",
            "  Uncertainty  = 1.5e-15\n",
            "  Unit  = m3 / (kg s2)\n",
            "  Reference = CODATA 2018\n",
            "\n",
            "1.6605390666e-27 kg\n",
            "\n",
            "299792458.0 m / s\n"
          ]
        }
      ]
    },
    {
      "cell_type": "markdown",
      "source": [
        "$R = \\frac{2GM}{c^2}$, this is the equation we will use to calculate Schwarschild Radius"
      ],
      "metadata": {
        "id": "HIv4Jt-CR4M3"
      }
    },
    {
      "cell_type": "code",
      "source": [
        "R = ((2*G*M) / (c * c)) # Calculate the Schwarzchild radius with equation\n",
        "print(R.to(u.km)) # Prints R in units of km"
      ],
      "metadata": {
        "colab": {
          "base_uri": "https://localhost:8080/"
        },
        "id": "DJ0ymrJVOoAV",
        "outputId": "e4f17fcf-fffd-45bd-fa50-406e4f007e00"
      },
      "execution_count": 27,
      "outputs": [
        {
          "output_type": "stream",
          "name": "stdout",
          "text": [
            "2.4662858483408628e-57 km\n"
          ]
        }
      ]
    }
  ]
}