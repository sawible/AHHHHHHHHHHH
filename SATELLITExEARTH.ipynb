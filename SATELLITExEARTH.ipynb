{
  "nbformat": 4,
  "nbformat_minor": 0,
  "metadata": {
    "colab": {
      "provenance": [],
      "authorship_tag": "ABX9TyM2q/loED+o+2PAe/9Y9/Xx",
      "include_colab_link": true
    },
    "kernelspec": {
      "name": "python3",
      "display_name": "Python 3"
    },
    "language_info": {
      "name": "python"
    }
  },
  "cells": [
    {
      "cell_type": "markdown",
      "metadata": {
        "id": "view-in-github",
        "colab_type": "text"
      },
      "source": [
        "<a href=\"https://colab.research.google.com/github/sawible/AHHHHHHHHHHH/blob/main/SATELLITExEARTH.ipynb\" target=\"_parent\"><img src=\"https://colab.research.google.com/assets/colab-badge.svg\" alt=\"Open In Colab\"/></a>"
      ]
    },
    {
      "cell_type": "code",
      "source": [
        "import astropy.constants as const # import package for constants\n",
        "import astropy.units as u # import package for units\n",
        "import numpy as np # import package for math"
      ],
      "metadata": {
        "id": "djyjwELfJdZb"
      },
      "execution_count": 6,
      "outputs": []
    },
    {
      "cell_type": "code",
      "source": [
        "M = 1 * const.M_earth # define M as Earth's mass\n",
        "print(M)"
      ],
      "metadata": {
        "colab": {
          "base_uri": "https://localhost:8080/"
        },
        "id": "XJedqSuOKL4s",
        "outputId": "ee060fc9-e170-45be-fdcf-dd5a46d2eab5"
      },
      "execution_count": 12,
      "outputs": [
        {
          "output_type": "stream",
          "name": "stdout",
          "text": [
            "5.972167867791379e+24 kg\n"
          ]
        }
      ]
    },
    {
      "cell_type": "code",
      "source": [
        "G = const.G # define G as Gravitational Constant\n",
        "print(G)"
      ],
      "metadata": {
        "colab": {
          "base_uri": "https://localhost:8080/"
        },
        "id": "GUDE9ms9Lbn-",
        "outputId": "55abc362-e9f7-43a4-daf3-07107161b2aa"
      },
      "execution_count": 13,
      "outputs": [
        {
          "output_type": "stream",
          "name": "stdout",
          "text": [
            "  Name   = Gravitational constant\n",
            "  Value  = 6.6743e-11\n",
            "  Uncertainty  = 1.5e-15\n",
            "  Unit  = m3 / (kg s2)\n",
            "  Reference = CODATA 2018\n"
          ]
        }
      ]
    },
    {
      "cell_type": "code",
      "source": [
        "R = const.R_earth # define R as Earth's radius\n",
        "print(R)"
      ],
      "metadata": {
        "colab": {
          "base_uri": "https://localhost:8080/"
        },
        "id": "h1huy23PL0RK",
        "outputId": "3df6ed18-82cd-4a70-d67f-146f8f6880d7"
      },
      "execution_count": 14,
      "outputs": [
        {
          "output_type": "stream",
          "name": "stdout",
          "text": [
            "  Name   = Nominal Earth equatorial radius\n",
            "  Value  = 6378100.0\n",
            "  Uncertainty  = 0.0\n",
            "  Unit  = m\n",
            "  Reference = IAU 2015 Resolution B 3\n"
          ]
        }
      ]
    },
    {
      "cell_type": "code",
      "source": [
        "V = np.sqrt((M * G)/ R) # Calculate orbital velocity of satellite with universal equation\n",
        "print(V.to(u.km/u.hr)) # Print in units of km/hr"
      ],
      "metadata": {
        "colab": {
          "base_uri": "https://localhost:8080/"
        },
        "id": "EbZuKzl9L5iY",
        "outputId": "526d0d0a-987c-4371-a50f-d78f777ee6fd"
      },
      "execution_count": 18,
      "outputs": [
        {
          "output_type": "stream",
          "name": "stdout",
          "text": [
            "28459.397643787008 km / h\n"
          ]
        }
      ]
    }
  ]
}