{
  "nbformat": 4,
  "nbformat_minor": 0,
  "metadata": {
    "colab": {
      "provenance": [],
      "authorship_tag": "ABX9TyPmXzmU/xKOjlSFi5vnQ/mz",
      "include_colab_link": true
    },
    "kernelspec": {
      "name": "python3",
      "display_name": "Python 3"
    },
    "language_info": {
      "name": "python"
    }
  },
  "cells": [
    {
      "cell_type": "markdown",
      "metadata": {
        "id": "view-in-github",
        "colab_type": "text"
      },
      "source": [
        "<a href=\"https://colab.research.google.com/github/sawible/AHHHHHHHHHHH/blob/main/ageofuniverse.ipynb\" target=\"_parent\"><img src=\"https://colab.research.google.com/assets/colab-badge.svg\" alt=\"Open In Colab\"/></a>"
      ]
    },
    {
      "cell_type": "code",
      "execution_count": null,
      "metadata": {
        "id": "jpBD1x7hC0yD"
      },
      "outputs": [],
      "source": [
        "# importing packages\n",
        "import astropy.constants as ac\n",
        "import astropy.units as u\n",
        "import astropy.cosmology as cosmo\n",
        "import numpy as np\n",
        "import matplotlib.pyplot as plt"
      ]
    },
    {
      "cell_type": "markdown",
      "source": [
        "$d = v * t$\n",
        "\n",
        "$t = \\frac{d}{v}$"
      ],
      "metadata": {
        "id": "tS_nJPloC4nA"
      }
    },
    {
      "cell_type": "code",
      "source": [
        "d = 1 * u.Mpc\n",
        "v = 70 * u.km / u.s\n",
        "t = d.to(u.km) / v\n",
        "print(t.to(u.yr))"
      ],
      "metadata": {
        "colab": {
          "base_uri": "https://localhost:8080/"
        },
        "id": "47c3iE4oDQ38",
        "outputId": "be0d137f-7bd1-41f2-c19c-b0b30a329978"
      },
      "execution_count": null,
      "outputs": [
        {
          "output_type": "stream",
          "name": "stdout",
          "text": [
            "13968460309.72556 yr\n"
          ]
        }
      ]
    },
    {
      "cell_type": "markdown",
      "source": [
        "$T0 = \\frac{d}{H x d} = \\frac{1}{H}$"
      ],
      "metadata": {
        "id": "0H-AgcFfEv7g"
      }
    },
    {
      "cell_type": "code",
      "source": [
        "H0 = 70 * u.km / u.s / u.Mpc # approximate Hubble's Constant as 70 km/s/Mpc\n",
        "T0 = 1 / H0 # use the formula\n",
        "print(T0.to(u.yr)) # print in units of years"
      ],
      "metadata": {
        "id": "Uh5aGjIrFA7w",
        "colab": {
          "base_uri": "https://localhost:8080/"
        },
        "outputId": "4e274352-e486-4650-8fbe-8a3121b3d111"
      },
      "execution_count": null,
      "outputs": [
        {
          "output_type": "stream",
          "name": "stdout",
          "text": [
            "13968460309.72556 yr\n"
          ]
        }
      ]
    }
  ]
}