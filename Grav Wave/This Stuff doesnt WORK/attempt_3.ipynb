{
  "nbformat": 4,
  "nbformat_minor": 0,
  "metadata": {
    "colab": {
      "provenance": []
    },
    "kernelspec": {
      "name": "python3",
      "display_name": "Python 3"
    },
    "language_info": {
      "name": "python"
    }
  },
  "cells": [
    {
      "cell_type": "code",
      "execution_count": 86,
      "metadata": {
        "colab": {
          "base_uri": "https://localhost:8080/"
        },
        "id": "QTn66GQ5p1XX",
        "outputId": "3ab8c8de-c98e-48ee-c7ca-56aeade7ccc3"
      },
      "outputs": [
        {
          "output_type": "stream",
          "name": "stdout",
          "text": [
            "Requirement already satisfied: gwpy in /usr/local/lib/python3.10/dist-packages (3.0.10)\n",
            "Requirement already satisfied: astropy>=4.3.0 in /usr/local/lib/python3.10/dist-packages (from gwpy) (6.1.4)\n",
            "Requirement already satisfied: dateparser>=1.1.4 in /usr/local/lib/python3.10/dist-packages (from gwpy) (1.2.0)\n",
            "Requirement already satisfied: dqsegdb2 in /usr/local/lib/python3.10/dist-packages (from gwpy) (1.2.1)\n",
            "Requirement already satisfied: gwdatafind>=1.1.0 in /usr/local/lib/python3.10/dist-packages (from gwpy) (1.2.0)\n",
            "Requirement already satisfied: gwosc>=0.5.3 in /usr/local/lib/python3.10/dist-packages (from gwpy) (0.7.1)\n",
            "Requirement already satisfied: h5py>=3.0.0 in /usr/local/lib/python3.10/dist-packages (from gwpy) (3.12.1)\n",
            "Requirement already satisfied: ligo-segments>=1.0.0 in /usr/local/lib/python3.10/dist-packages (from gwpy) (1.4.0)\n",
            "Requirement already satisfied: ligotimegps>=1.2.1 in /usr/local/lib/python3.10/dist-packages (from gwpy) (2.0.1)\n",
            "Requirement already satisfied: matplotlib>=3.3.0 in /usr/local/lib/python3.10/dist-packages (from gwpy) (3.8.0)\n",
            "Requirement already satisfied: numpy>=1.19 in /usr/local/lib/python3.10/dist-packages (from gwpy) (1.26.4)\n",
            "Requirement already satisfied: python-dateutil in /usr/local/lib/python3.10/dist-packages (from gwpy) (2.8.2)\n",
            "Requirement already satisfied: requests>=2.20.0 in /usr/local/lib/python3.10/dist-packages (from gwpy) (2.32.3)\n",
            "Requirement already satisfied: scipy>=1.6.0 in /usr/local/lib/python3.10/dist-packages (from gwpy) (1.13.1)\n",
            "Requirement already satisfied: tqdm>=4.10.0 in /usr/local/lib/python3.10/dist-packages (from gwpy) (4.66.6)\n",
            "Requirement already satisfied: pyerfa>=2.0.1.1 in /usr/local/lib/python3.10/dist-packages (from astropy>=4.3.0->gwpy) (2.0.1.4)\n",
            "Requirement already satisfied: astropy-iers-data>=0.2024.8.27.10.28.29 in /usr/local/lib/python3.10/dist-packages (from astropy>=4.3.0->gwpy) (0.2024.10.28.0.34.7)\n",
            "Requirement already satisfied: PyYAML>=3.13 in /usr/local/lib/python3.10/dist-packages (from astropy>=4.3.0->gwpy) (6.0.2)\n",
            "Requirement already satisfied: packaging>=19.0 in /usr/local/lib/python3.10/dist-packages (from astropy>=4.3.0->gwpy) (24.1)\n",
            "Requirement already satisfied: pytz in /usr/local/lib/python3.10/dist-packages (from dateparser>=1.1.4->gwpy) (2024.2)\n",
            "Requirement already satisfied: regex!=2019.02.19,!=2021.8.27 in /usr/local/lib/python3.10/dist-packages (from dateparser>=1.1.4->gwpy) (2024.9.11)\n",
            "Requirement already satisfied: tzlocal in /usr/local/lib/python3.10/dist-packages (from dateparser>=1.1.4->gwpy) (5.2)\n",
            "Requirement already satisfied: igwn-auth-utils>=0.3.1 in /usr/local/lib/python3.10/dist-packages (from gwdatafind>=1.1.0->gwpy) (1.1.1)\n",
            "Requirement already satisfied: six in /usr/local/lib/python3.10/dist-packages (from ligo-segments>=1.0.0->gwpy) (1.16.0)\n",
            "Requirement already satisfied: contourpy>=1.0.1 in /usr/local/lib/python3.10/dist-packages (from matplotlib>=3.3.0->gwpy) (1.3.0)\n",
            "Requirement already satisfied: cycler>=0.10 in /usr/local/lib/python3.10/dist-packages (from matplotlib>=3.3.0->gwpy) (0.12.1)\n",
            "Requirement already satisfied: fonttools>=4.22.0 in /usr/local/lib/python3.10/dist-packages (from matplotlib>=3.3.0->gwpy) (4.54.1)\n",
            "Requirement already satisfied: kiwisolver>=1.0.1 in /usr/local/lib/python3.10/dist-packages (from matplotlib>=3.3.0->gwpy) (1.4.7)\n",
            "Requirement already satisfied: pillow>=6.2.0 in /usr/local/lib/python3.10/dist-packages (from matplotlib>=3.3.0->gwpy) (10.4.0)\n",
            "Requirement already satisfied: pyparsing>=2.3.1 in /usr/local/lib/python3.10/dist-packages (from matplotlib>=3.3.0->gwpy) (3.2.0)\n",
            "Requirement already satisfied: charset-normalizer<4,>=2 in /usr/local/lib/python3.10/dist-packages (from requests>=2.20.0->gwpy) (3.4.0)\n",
            "Requirement already satisfied: idna<4,>=2.5 in /usr/local/lib/python3.10/dist-packages (from requests>=2.20.0->gwpy) (3.10)\n",
            "Requirement already satisfied: urllib3<3,>=1.21.1 in /usr/local/lib/python3.10/dist-packages (from requests>=2.20.0->gwpy) (2.2.3)\n",
            "Requirement already satisfied: certifi>=2017.4.17 in /usr/local/lib/python3.10/dist-packages (from requests>=2.20.0->gwpy) (2024.8.30)\n",
            "Requirement already satisfied: cryptography>=2.3 in /usr/local/lib/python3.10/dist-packages (from igwn-auth-utils>=0.3.1->gwdatafind>=1.1.0->gwpy) (43.0.3)\n",
            "Requirement already satisfied: safe-netrc>=1.0.0 in /usr/local/lib/python3.10/dist-packages (from igwn-auth-utils>=0.3.1->gwdatafind>=1.1.0->gwpy) (1.0.1)\n",
            "Requirement already satisfied: scitokens>=1.7.0 in /usr/local/lib/python3.10/dist-packages (from igwn-auth-utils>=0.3.1->gwdatafind>=1.1.0->gwpy) (1.8.1)\n",
            "Requirement already satisfied: cffi>=1.12 in /usr/local/lib/python3.10/dist-packages (from cryptography>=2.3->igwn-auth-utils>=0.3.1->gwdatafind>=1.1.0->gwpy) (1.17.1)\n",
            "Requirement already satisfied: PyJWT>=1.6.1 in /usr/local/lib/python3.10/dist-packages (from scitokens>=1.7.0->igwn-auth-utils>=0.3.1->gwdatafind>=1.1.0->gwpy) (2.9.0)\n",
            "Requirement already satisfied: pycparser in /usr/local/lib/python3.10/dist-packages (from cffi>=1.12->cryptography>=2.3->igwn-auth-utils>=0.3.1->gwdatafind>=1.1.0->gwpy) (2.22)\n"
          ]
        }
      ],
      "source": [
        "! pip install gwpy"
      ]
    },
    {
      "cell_type": "code",
      "source": [
        "! pip install gwpy bilby"
      ],
      "metadata": {
        "colab": {
          "base_uri": "https://localhost:8080/"
        },
        "id": "RQpYhoZjqIf7",
        "outputId": "f69b9fba-44d8-4a5a-834a-6603bd865926"
      },
      "execution_count": 87,
      "outputs": [
        {
          "output_type": "stream",
          "name": "stdout",
          "text": [
            "Requirement already satisfied: gwpy in /usr/local/lib/python3.10/dist-packages (3.0.10)\n",
            "Requirement already satisfied: bilby in /usr/local/lib/python3.10/dist-packages (2.3.0)\n",
            "Requirement already satisfied: astropy>=4.3.0 in /usr/local/lib/python3.10/dist-packages (from gwpy) (6.1.4)\n",
            "Requirement already satisfied: dateparser>=1.1.4 in /usr/local/lib/python3.10/dist-packages (from gwpy) (1.2.0)\n",
            "Requirement already satisfied: dqsegdb2 in /usr/local/lib/python3.10/dist-packages (from gwpy) (1.2.1)\n",
            "Requirement already satisfied: gwdatafind>=1.1.0 in /usr/local/lib/python3.10/dist-packages (from gwpy) (1.2.0)\n",
            "Requirement already satisfied: gwosc>=0.5.3 in /usr/local/lib/python3.10/dist-packages (from gwpy) (0.7.1)\n",
            "Requirement already satisfied: h5py>=3.0.0 in /usr/local/lib/python3.10/dist-packages (from gwpy) (3.12.1)\n",
            "Requirement already satisfied: ligo-segments>=1.0.0 in /usr/local/lib/python3.10/dist-packages (from gwpy) (1.4.0)\n",
            "Requirement already satisfied: ligotimegps>=1.2.1 in /usr/local/lib/python3.10/dist-packages (from gwpy) (2.0.1)\n",
            "Requirement already satisfied: matplotlib>=3.3.0 in /usr/local/lib/python3.10/dist-packages (from gwpy) (3.8.0)\n",
            "Requirement already satisfied: numpy>=1.19 in /usr/local/lib/python3.10/dist-packages (from gwpy) (1.26.4)\n",
            "Requirement already satisfied: python-dateutil in /usr/local/lib/python3.10/dist-packages (from gwpy) (2.8.2)\n",
            "Requirement already satisfied: requests>=2.20.0 in /usr/local/lib/python3.10/dist-packages (from gwpy) (2.32.3)\n",
            "Requirement already satisfied: scipy>=1.6.0 in /usr/local/lib/python3.10/dist-packages (from gwpy) (1.13.1)\n",
            "Requirement already satisfied: tqdm>=4.10.0 in /usr/local/lib/python3.10/dist-packages (from gwpy) (4.66.6)\n",
            "Requirement already satisfied: bilby.cython>=0.3.0 in /usr/local/lib/python3.10/dist-packages (from bilby) (0.5.3)\n",
            "Requirement already satisfied: dynesty>=2.0.1 in /usr/local/lib/python3.10/dist-packages (from bilby) (2.1.4)\n",
            "Requirement already satisfied: emcee in /usr/local/lib/python3.10/dist-packages (from bilby) (3.1.6)\n",
            "Requirement already satisfied: corner in /usr/local/lib/python3.10/dist-packages (from bilby) (2.2.2)\n",
            "Requirement already satisfied: pandas in /usr/local/lib/python3.10/dist-packages (from bilby) (2.2.2)\n",
            "Requirement already satisfied: dill in /usr/local/lib/python3.10/dist-packages (from bilby) (0.3.9)\n",
            "Requirement already satisfied: attrs in /usr/local/lib/python3.10/dist-packages (from bilby) (24.2.0)\n",
            "Requirement already satisfied: pyerfa>=2.0.1.1 in /usr/local/lib/python3.10/dist-packages (from astropy>=4.3.0->gwpy) (2.0.1.4)\n",
            "Requirement already satisfied: astropy-iers-data>=0.2024.8.27.10.28.29 in /usr/local/lib/python3.10/dist-packages (from astropy>=4.3.0->gwpy) (0.2024.10.28.0.34.7)\n",
            "Requirement already satisfied: PyYAML>=3.13 in /usr/local/lib/python3.10/dist-packages (from astropy>=4.3.0->gwpy) (6.0.2)\n",
            "Requirement already satisfied: packaging>=19.0 in /usr/local/lib/python3.10/dist-packages (from astropy>=4.3.0->gwpy) (24.1)\n",
            "Requirement already satisfied: pytz in /usr/local/lib/python3.10/dist-packages (from dateparser>=1.1.4->gwpy) (2024.2)\n",
            "Requirement already satisfied: regex!=2019.02.19,!=2021.8.27 in /usr/local/lib/python3.10/dist-packages (from dateparser>=1.1.4->gwpy) (2024.9.11)\n",
            "Requirement already satisfied: tzlocal in /usr/local/lib/python3.10/dist-packages (from dateparser>=1.1.4->gwpy) (5.2)\n",
            "Requirement already satisfied: igwn-auth-utils>=0.3.1 in /usr/local/lib/python3.10/dist-packages (from gwdatafind>=1.1.0->gwpy) (1.1.1)\n",
            "Requirement already satisfied: six in /usr/local/lib/python3.10/dist-packages (from ligo-segments>=1.0.0->gwpy) (1.16.0)\n",
            "Requirement already satisfied: contourpy>=1.0.1 in /usr/local/lib/python3.10/dist-packages (from matplotlib>=3.3.0->gwpy) (1.3.0)\n",
            "Requirement already satisfied: cycler>=0.10 in /usr/local/lib/python3.10/dist-packages (from matplotlib>=3.3.0->gwpy) (0.12.1)\n",
            "Requirement already satisfied: fonttools>=4.22.0 in /usr/local/lib/python3.10/dist-packages (from matplotlib>=3.3.0->gwpy) (4.54.1)\n",
            "Requirement already satisfied: kiwisolver>=1.0.1 in /usr/local/lib/python3.10/dist-packages (from matplotlib>=3.3.0->gwpy) (1.4.7)\n",
            "Requirement already satisfied: pillow>=6.2.0 in /usr/local/lib/python3.10/dist-packages (from matplotlib>=3.3.0->gwpy) (10.4.0)\n",
            "Requirement already satisfied: pyparsing>=2.3.1 in /usr/local/lib/python3.10/dist-packages (from matplotlib>=3.3.0->gwpy) (3.2.0)\n",
            "Requirement already satisfied: charset-normalizer<4,>=2 in /usr/local/lib/python3.10/dist-packages (from requests>=2.20.0->gwpy) (3.4.0)\n",
            "Requirement already satisfied: idna<4,>=2.5 in /usr/local/lib/python3.10/dist-packages (from requests>=2.20.0->gwpy) (3.10)\n",
            "Requirement already satisfied: urllib3<3,>=1.21.1 in /usr/local/lib/python3.10/dist-packages (from requests>=2.20.0->gwpy) (2.2.3)\n",
            "Requirement already satisfied: certifi>=2017.4.17 in /usr/local/lib/python3.10/dist-packages (from requests>=2.20.0->gwpy) (2024.8.30)\n",
            "Requirement already satisfied: tzdata>=2022.7 in /usr/local/lib/python3.10/dist-packages (from pandas->bilby) (2024.2)\n",
            "Requirement already satisfied: cryptography>=2.3 in /usr/local/lib/python3.10/dist-packages (from igwn-auth-utils>=0.3.1->gwdatafind>=1.1.0->gwpy) (43.0.3)\n",
            "Requirement already satisfied: safe-netrc>=1.0.0 in /usr/local/lib/python3.10/dist-packages (from igwn-auth-utils>=0.3.1->gwdatafind>=1.1.0->gwpy) (1.0.1)\n",
            "Requirement already satisfied: scitokens>=1.7.0 in /usr/local/lib/python3.10/dist-packages (from igwn-auth-utils>=0.3.1->gwdatafind>=1.1.0->gwpy) (1.8.1)\n",
            "Requirement already satisfied: cffi>=1.12 in /usr/local/lib/python3.10/dist-packages (from cryptography>=2.3->igwn-auth-utils>=0.3.1->gwdatafind>=1.1.0->gwpy) (1.17.1)\n",
            "Requirement already satisfied: PyJWT>=1.6.1 in /usr/local/lib/python3.10/dist-packages (from scitokens>=1.7.0->igwn-auth-utils>=0.3.1->gwdatafind>=1.1.0->gwpy) (2.9.0)\n",
            "Requirement already satisfied: pycparser in /usr/local/lib/python3.10/dist-packages (from cffi>=1.12->cryptography>=2.3->igwn-auth-utils>=0.3.1->gwdatafind>=1.1.0->gwpy) (2.22)\n"
          ]
        }
      ]
    },
    {
      "cell_type": "code",
      "source": [
        "!pip install lalsuite\n"
      ],
      "metadata": {
        "colab": {
          "base_uri": "https://localhost:8080/"
        },
        "id": "alNTyEmyyzGS",
        "outputId": "5d014a06-f0d6-43ff-be80-fbd84c0e7182"
      },
      "execution_count": 88,
      "outputs": [
        {
          "output_type": "stream",
          "name": "stdout",
          "text": [
            "Requirement already satisfied: lalsuite in /usr/local/lib/python3.10/dist-packages (7.23)\n",
            "Requirement already satisfied: astropy in /usr/local/lib/python3.10/dist-packages (from lalsuite) (6.1.4)\n",
            "Requirement already satisfied: ligo-segments in /usr/local/lib/python3.10/dist-packages (from lalsuite) (1.4.0)\n",
            "Requirement already satisfied: lscsoft-glue in /usr/local/lib/python3.10/dist-packages (from lalsuite) (4.0.0)\n",
            "Requirement already satisfied: matplotlib in /usr/local/lib/python3.10/dist-packages (from lalsuite) (3.8.0)\n",
            "Requirement already satisfied: numpy>=1.19 in /usr/local/lib/python3.10/dist-packages (from lalsuite) (1.26.4)\n",
            "Requirement already satisfied: python-dateutil in /usr/local/lib/python3.10/dist-packages (from lalsuite) (2.8.2)\n",
            "Requirement already satisfied: scipy in /usr/local/lib/python3.10/dist-packages (from lalsuite) (1.13.1)\n",
            "Requirement already satisfied: pyerfa>=2.0.1.1 in /usr/local/lib/python3.10/dist-packages (from astropy->lalsuite) (2.0.1.4)\n",
            "Requirement already satisfied: astropy-iers-data>=0.2024.8.27.10.28.29 in /usr/local/lib/python3.10/dist-packages (from astropy->lalsuite) (0.2024.10.28.0.34.7)\n",
            "Requirement already satisfied: PyYAML>=3.13 in /usr/local/lib/python3.10/dist-packages (from astropy->lalsuite) (6.0.2)\n",
            "Requirement already satisfied: packaging>=19.0 in /usr/local/lib/python3.10/dist-packages (from astropy->lalsuite) (24.1)\n",
            "Requirement already satisfied: six in /usr/local/lib/python3.10/dist-packages (from ligo-segments->lalsuite) (1.16.0)\n",
            "Requirement already satisfied: pyOpenSSL in /usr/local/lib/python3.10/dist-packages (from lscsoft-glue->lalsuite) (24.2.1)\n",
            "Requirement already satisfied: contourpy>=1.0.1 in /usr/local/lib/python3.10/dist-packages (from matplotlib->lalsuite) (1.3.0)\n",
            "Requirement already satisfied: cycler>=0.10 in /usr/local/lib/python3.10/dist-packages (from matplotlib->lalsuite) (0.12.1)\n",
            "Requirement already satisfied: fonttools>=4.22.0 in /usr/local/lib/python3.10/dist-packages (from matplotlib->lalsuite) (4.54.1)\n",
            "Requirement already satisfied: kiwisolver>=1.0.1 in /usr/local/lib/python3.10/dist-packages (from matplotlib->lalsuite) (1.4.7)\n",
            "Requirement already satisfied: pillow>=6.2.0 in /usr/local/lib/python3.10/dist-packages (from matplotlib->lalsuite) (10.4.0)\n",
            "Requirement already satisfied: pyparsing>=2.3.1 in /usr/local/lib/python3.10/dist-packages (from matplotlib->lalsuite) (3.2.0)\n",
            "Requirement already satisfied: cryptography<44,>=41.0.5 in /usr/local/lib/python3.10/dist-packages (from pyOpenSSL->lscsoft-glue->lalsuite) (43.0.3)\n",
            "Requirement already satisfied: cffi>=1.12 in /usr/local/lib/python3.10/dist-packages (from cryptography<44,>=41.0.5->pyOpenSSL->lscsoft-glue->lalsuite) (1.17.1)\n",
            "Requirement already satisfied: pycparser in /usr/local/lib/python3.10/dist-packages (from cffi>=1.12->cryptography<44,>=41.0.5->pyOpenSSL->lscsoft-glue->lalsuite) (2.22)\n"
          ]
        }
      ]
    },
    {
      "cell_type": "code",
      "source": [
        "# importing packages\n",
        "import astropy.constants as ac\n",
        "import astropy.units as u\n",
        "import numpy as np\n",
        "import matplotlib.pyplot as plt\n",
        "import bilby"
      ],
      "metadata": {
        "id": "6AD8FG_Gqfp1"
      },
      "execution_count": 89,
      "outputs": []
    },
    {
      "cell_type": "code",
      "source": [
        "from gwpy.timeseries import TimeSeries\n",
        "\n",
        "# Define GPS time of event and duration (e.g., 4 seconds around GW150914)\n",
        "event_time = 1126259462.4  # GPS time for GW150914\n",
        "duration = 4\n",
        "\n",
        "# Fetch data for both detectors (H1 and L1)\n",
        "h1_data = TimeSeries.fetch_open_data('H1', event_time - duration / 2, event_time + duration / 2)\n",
        "l1_data = TimeSeries.fetch_open_data('L1', event_time - duration / 2, event_time + duration / 2)"
      ],
      "metadata": {
        "id": "TipNPaUqqLKN"
      },
      "execution_count": 90,
      "outputs": []
    },
    {
      "cell_type": "code",
      "source": [
        "# Set up priors for the binary black hole merger\n",
        "priors = bilby.gw.prior.BBHPriorDict()\n",
        "priors['mass_1'] = bilby.core.prior.Uniform(20, 50, 'mass_1')  # Mass of primary black hole\n",
        "priors['mass_2'] = bilby.core.prior.Uniform(20, 50, 'mass_2')  # Mass of secondary black hole\n",
        "priors['luminosity_distance'] = bilby.core.prior.Uniform(100, 2000, 'luminosity_distance')  # Distance\n",
        "priors['a_1'] = bilby.core.prior.Uniform(0, 0.99, 'a_1')  # Spin of primary\n",
        "priors['a_2'] = bilby.core.prior.Uniform(0, 0.99, 'a_2')  # Spin of secondary\n",
        "priors['theta_jn'] = bilby.core.prior.Uniform(0, np.pi, 'theta_jn')  # Inclination\n",
        "priors['phase'] = bilby.core.prior.Uniform(0, 2 * np.pi, 'phase')\n",
        "priors['geocent_time'] = bilby.core.prior.Uniform(event_time - 0.1, event_time + 0.1, 'geocent_time')  # Event time\n",
        "priors['psi'] = bilby.core.prior.Uniform(0, np.pi, 'psi')"
      ],
      "metadata": {
        "colab": {
          "base_uri": "https://localhost:8080/"
        },
        "id": "ckK2gpYlqa7a",
        "outputId": "eb0fb05e-1dfd-4106-f9e9-c2a9f9782d77"
      },
      "execution_count": 91,
      "outputs": [
        {
          "output_type": "stream",
          "name": "stderr",
          "text": [
            "17:30 bilby INFO    : No prior given, using default BBH priors in /usr/local/lib/python3.10/dist-packages/bilby/gw/prior_files/precessing_spins_bbh.prior.\n"
          ]
        }
      ]
    },
    {
      "cell_type": "code",
      "source": [
        "# Define waveform arguments\n",
        "waveform_arguments = {\n",
        "    'waveform_approximant': 'IMRPhenomPv2',  # Precessing binary black hole waveform\n",
        "    'reference_frequency': 50.0,\n",
        "    'minimum_frequency': 20.0\n",
        "}"
      ],
      "metadata": {
        "id": "6Bku3bacqjgm"
      },
      "execution_count": 92,
      "outputs": []
    },
    {
      "cell_type": "code",
      "source": [
        "duration = 1 * u.s\n",
        "sampling_frequency = 4096 * u.Hz\n",
        "interferometers = bilby.gw.detector.InterferometerList(['H1', 'L1'])\n",
        "\n",
        "\n",
        "  # Define the waveform generator\n",
        "waveform_generator = bilby.gw.WaveformGenerator(\n",
        "    duration=duration,\n",
        "    sampling_frequency=sampling_frequency,\n",
        "    frequency_domain_source_model=bilby.gw.source.lal_binary_black_hole,\n",
        "    waveform_arguments=waveform_arguments,\n",
        ")\n",
        "\n",
        "# Create likelihood\n",
        "likelihood = bilby.gw.likelihood.GravitationalWaveTransient(\n",
        "    interferometers=interferometers,\n",
        "    waveform_generator=waveform_generator,\n",
        "    time_marginalization=False,\n",
        "    priors=priors\n",
        ")"
      ],
      "metadata": {
        "colab": {
          "base_uri": "https://localhost:8080/"
        },
        "id": "35w34nP8qmF3",
        "outputId": "05b5fe4a-08af-4fb4-c1e7-ba2dffac0f65"
      },
      "execution_count": 93,
      "outputs": [
        {
          "output_type": "stream",
          "name": "stderr",
          "text": [
            "17:30 bilby INFO    : Waveform generator initiated with\n",
            "  frequency_domain_source_model: bilby.gw.source.lal_binary_black_hole\n",
            "  time_domain_source_model: None\n",
            "  parameter_conversion: bilby.gw.conversion.convert_to_lal_binary_black_hole_parameters\n"
          ]
        }
      ]
    },
    {
      "cell_type": "code",
      "source": [
        "for ifo, data in zip(interferometers, [h1_data, l1_data]):\n",
        "    ifo.strain_data = bilby.gw.detector.strain_data.InterferometerStrainData(data.value)\n",
        "\n",
        "    # Ensure consistent sampling parameters between data and Interferometer\n",
        "    ifo.strain_data.sampling_frequency = sampling_frequency.value\n",
        "    ifo.strain_data.duration = duration.value\n",
        "\n",
        "    # Generate PSD using consistent parameters\n",
        "    power_spectral_density = data.psd(fftlength=4)\n",
        "\n",
        "    # Resampling may not be necessary anymore if parameters are consistent\n",
        "    # If still needed, ensure df is calculated based on the updated sampling_frequency\n",
        "    df = ifo.strain_data.frequency_array[1] - ifo.strain_data.frequency_array[0]\n",
        "    power_spectral_density = power_spectral_density.interpolate(df)\n",
        "\n",
        "    ifo.power_spectral_density = bilby.gw.detector.PowerSpectralDensity(\n",
        "        frequency_array=power_spectral_density.frequencies.value,\n",
        "        psd_array=power_spectral_density.value\n",
        "    )\n",
        "\n",
        "    # Explicitly set duration and sampling_frequency for the Interferometer\n",
        "    ifo.duration = duration.value\n",
        "    ifo.sampling_frequency = sampling_frequency.value"
      ],
      "metadata": {
        "id": "qWByQLJCquOX"
      },
      "execution_count": 94,
      "outputs": []
    },
    {
      "cell_type": "code",
      "source": [
        "# Resample or trim data if needed\n",
        "min_length = min(len(h1_data), len(l1_data))\n",
        "h1_data = h1_data[:min_length]\n",
        "l1_data = l1_data[:min_length]"
      ],
      "metadata": {
        "id": "NWQl_I8jrEKa"
      },
      "execution_count": 111,
      "outputs": []
    },
    {
      "cell_type": "code",
      "source": [
        "# Resample to the same rate if necessary\n",
        "h1_data = h1_data.resample(4096)\n",
        "l1_data = l1_data.resample(4096)"
      ],
      "metadata": {
        "colab": {
          "base_uri": "https://localhost:8080/"
        },
        "id": "NyLWtl7erGIR",
        "outputId": "1980e3ad-e7c9-4bc1-de52-92a0b8d24505"
      },
      "execution_count": 112,
      "outputs": [
        {
          "output_type": "stream",
          "name": "stderr",
          "text": [
            "/usr/local/lib/python3.10/dist-packages/gwpy/timeseries/timeseries.py:930: UserWarning: resample() rate matches current sample_rate (4096.0 Hz), returning input data unmodified; please double-check your parameters\n",
            "  warnings.warn(\n"
          ]
        }
      ]
    },
    {
      "cell_type": "code",
      "source": [
        "print(h1_data.shape)\n",
        "print(l1_data.shape)"
      ],
      "metadata": {
        "colab": {
          "base_uri": "https://localhost:8080/"
        },
        "id": "LkQZT-zUrImG",
        "outputId": "44b16a47-03b1-442a-eb88-6664f5988c46"
      },
      "execution_count": 113,
      "outputs": [
        {
          "output_type": "stream",
          "name": "stdout",
          "text": [
            "(16384,)\n",
            "(16384,)\n"
          ]
        }
      ]
    },
    {
      "cell_type": "code",
      "source": [
        "# Bandpass filter to focus on frequencies where the signal is prominent\n",
        "h1_data = h1_data.bandpass(20, 1024)\n",
        "l1_data = l1_data.bandpass(20, 1024)\n",
        "\n",
        "# Whiten the data to reduce the impact of the instrument noise\n",
        "h1_data = h1_data.whiten()\n",
        "l1_data = l1_data.whiten()"
      ],
      "metadata": {
        "id": "gVXrL09Gu7Er"
      },
      "execution_count": 114,
      "outputs": []
    },
    {
      "cell_type": "code",
      "source": [
        "# Define priors\n",
        "priors = bilby.gw.prior.BBHPriorDict()\n",
        "priors['geocent_time'] = bilby.core.prior.Uniform(\n",
        "    minimum=h1_data.times.min().value,  # Start time of data\n",
        "    maximum=h1_data.times.max().value,  # End time of data\n",
        "    name='geocent_time',\n",
        "    latex_label='$t_c$',\n",
        "    unit='$s$'\n",
        ")"
      ],
      "metadata": {
        "colab": {
          "base_uri": "https://localhost:8080/"
        },
        "id": "1hTkvt7tu9VT",
        "outputId": "fa447b2e-541e-46cd-f94a-5694fca9deb2"
      },
      "execution_count": 115,
      "outputs": [
        {
          "output_type": "stream",
          "name": "stderr",
          "text": [
            "17:53 bilby INFO    : No prior given, using default BBH priors in /usr/local/lib/python3.10/dist-packages/bilby/gw/prior_files/precessing_spins_bbh.prior.\n"
          ]
        }
      ]
    },
    {
      "cell_type": "code",
      "source": [
        "# Set up interferometers with the data from gwpy\n",
        "interferometers = bilby.gw.detector.InterferometerList(['H1', 'L1'])\n",
        "\n",
        "waveform_arguments = {\n",
        "    'waveform_approximant': 'IMRPhenomPv2',\n",
        "    'reference_frequency': 50,\n",
        "    'minimum_frequency': 20\n",
        "}\n",
        "\n",
        " # Define the waveform generator\n",
        "waveform_generator = bilby.gw.WaveformGenerator(\n",
        "    duration=duration,\n",
        "    sampling_frequency=sampling_frequency,\n",
        "    frequency_domain_source_model=bilby.gw.source.lal_binary_black_hole,\n",
        "    waveform_arguments=waveform_arguments,\n",
        ")\n",
        "\n",
        "# Create likelihood\n",
        "likelihood = bilby.gw.likelihood.GravitationalWaveTransient(\n",
        "    interferometers=interferometers,\n",
        "    waveform_generator=waveform_generator,\n",
        "    time_marginalization=False,\n",
        "    priors=priors\n",
        ")"
      ],
      "metadata": {
        "colab": {
          "base_uri": "https://localhost:8080/"
        },
        "id": "4DMxlEY_vARz",
        "outputId": "37c6b8b6-8ccc-4253-9e1d-f1da879651d9"
      },
      "execution_count": 116,
      "outputs": [
        {
          "output_type": "stream",
          "name": "stderr",
          "text": [
            "17:53 bilby INFO    : Waveform generator initiated with\n",
            "  frequency_domain_source_model: bilby.gw.source.lal_binary_black_hole\n",
            "  time_domain_source_model: None\n",
            "  parameter_conversion: bilby.gw.conversion.convert_to_lal_binary_black_hole_parameters\n"
          ]
        }
      ]
    },
    {
      "cell_type": "code",
      "source": [
        "# Set up interferometers with the data from gwpy\n",
        "interferometers = bilby.gw.detector.InterferometerList(['H1', 'L1'])\n",
        "interferometers[0].strain_data.set_from_gwpy_timeseries(h1_data)  # Set data for H1\n",
        "interferometers[1].strain_data.set_from_gwpy_timeseries(l1_data)  # Set data for L1\n",
        "\n",
        "# Explicitly set the duration and sampling frequency for the interferometers\n",
        "for interferometer in interferometers:\n",
        "    interferometer.duration = duration\n",
        "    interferometer.sampling_frequency = sampling_frequency\n",
        "    # Instead of implicit truthiness check, explicitly check if the values are not zero\n",
        "    if sampling_frequency.value != 0 and duration.value != 0:\n",
        "        interferometer.strain_data._times_and_frequencies.sampling_frequency = sampling_frequency.value\n",
        "        interferometer.strain_data._times_and_frequencies.duration = duration.value\n",
        "\n",
        "    # Recalculate the frequency mask after bandpassing\n",
        "    # Ensure mask length matches frequency_domain_strain length\n",
        "    # Get the frequency domain strain AFTER setting the data and other parameters\n",
        "    frequency_domain_strain = interferometer.strain_data.frequency_domain_strain\n",
        "    mask_length = len(frequency_domain_strain)\n",
        "\n",
        "    # Create a mask based on the frequency range of the data\n",
        "    frequencies = interferometer.strain_data.frequency_array  # Access frequency array\n",
        "    # Create a mask with the same length as the frequency_domain_strain\n",
        "    mask = np.zeros(mask_length, dtype=bool)\n",
        "    # Find the indices corresponding to the desired frequency range\n",
        "    freq_indices = np.where((frequencies >= 20) & (frequencies <= 1024))\n",
        "    # Set the mask to True for those indices\n",
        "    mask[freq_indices] = True\n",
        "\n",
        "    # Apply the mask to the frequency_domain_strain\n",
        "    interferometer.strain_data.frequency_mask = mask\n",
        "    # Now frequency_mask has the correct shape\n",
        "\n",
        "\n",
        "# Run sampler\n",
        "result = bilby.run_sampler(\n",
        "    likelihood=likelihood,\n",
        "    priors=priors,\n",
        "    sampler='dynesty',\n",
        "    nlive=500,\n",
        "    outdir='outdir',\n",
        "    label='GW_event',\n",
        ")"
      ],
      "metadata": {
        "colab": {
          "base_uri": "https://localhost:8080/",
          "height": 828
        },
        "id": "ezYd0FT5vWJG",
        "outputId": "c9c43a13-5c97-4a6e-8582-2564b53232b9"
      },
      "execution_count": 128,
      "outputs": [
        {
          "output_type": "stream",
          "name": "stderr",
          "text": [
            "18:04 bilby INFO    : Running for label 'GW_event', output will be saved to 'outdir'\n",
            "18:04 bilby INFO    : Using lal version 7.6.0\n",
            "18:04 bilby INFO    : Using lal git version Branch: None;Tag: lalsuite-v7.23;Id: c5582baa0aa526a28cb2ddee020dfbee3572be7c;;Builder: Unknown User <>;Repository status: UNCLEAN: Modified working tree\n",
            "18:04 bilby INFO    : Using lalsimulation version 6.0.0\n",
            "18:04 bilby INFO    : Using lalsimulation git version Branch: None;Tag: lalsuite-v7.23;Id: c5582baa0aa526a28cb2ddee020dfbee3572be7c;;Builder: Unknown User <>;Repository status: UNCLEAN: Modified working tree\n",
            "/usr/local/lib/python3.10/dist-packages/bilby/core/utils/log.py:73: UserWarning: The '__version__' attribute is deprecated and will be removed in MarkupSafe 3.1. Use feature detection, or `importlib.metadata.version(\"markupsafe\")`, instead.\n",
            "  vdict[key] = str(getattr(sys.modules[key], \"__version__\", \"N/A\"))\n",
            "18:04 bilby INFO    : Analysis priors:\n",
            "18:04 bilby INFO    : mass_ratio=bilby.gw.prior.UniformInComponentsMassRatio(minimum=0.125, maximum=1, name='mass_ratio', latex_label='$q$', unit=None, boundary=None, equal_mass=False)\n",
            "18:04 bilby INFO    : chirp_mass=bilby.gw.prior.UniformInComponentsChirpMass(minimum=25, maximum=100, name='chirp_mass', latex_label='$\\\\mathcal{M}$', unit=None, boundary=None)\n",
            "18:04 bilby INFO    : luminosity_distance=bilby.gw.prior.UniformSourceFrame(minimum=100.0, maximum=5000.0, cosmology='Planck15', name='luminosity_distance', latex_label='$d_L$', unit='Mpc', boundary=None)\n",
            "18:04 bilby INFO    : dec=Cosine(minimum=-1.5707963267948966, maximum=1.5707963267948966, name='dec', latex_label='$\\\\mathrm{DEC}$', unit=None, boundary=None)\n",
            "18:04 bilby INFO    : ra=Uniform(minimum=0, maximum=6.283185307179586, name='ra', latex_label='$\\\\mathrm{RA}$', unit=None, boundary='periodic')\n",
            "18:04 bilby INFO    : theta_jn=Sine(minimum=0, maximum=3.141592653589793, name='theta_jn', latex_label='$\\\\theta_{JN}$', unit=None, boundary=None)\n",
            "18:04 bilby INFO    : psi=Uniform(minimum=0, maximum=3.141592653589793, name='psi', latex_label='$\\\\psi$', unit=None, boundary='periodic')\n",
            "18:04 bilby INFO    : phase=Uniform(minimum=0, maximum=6.283185307179586, name='phase', latex_label='$\\\\phi$', unit=None, boundary='periodic')\n",
            "18:04 bilby INFO    : a_1=Uniform(minimum=0, maximum=0.99, name='a_1', latex_label='$a_1$', unit=None, boundary=None)\n",
            "18:04 bilby INFO    : a_2=Uniform(minimum=0, maximum=0.99, name='a_2', latex_label='$a_2$', unit=None, boundary=None)\n",
            "18:04 bilby INFO    : tilt_1=Sine(minimum=0, maximum=3.141592653589793, name='tilt_1', latex_label='$\\\\theta_1$', unit=None, boundary=None)\n",
            "18:04 bilby INFO    : tilt_2=Sine(minimum=0, maximum=3.141592653589793, name='tilt_2', latex_label='$\\\\theta_2$', unit=None, boundary=None)\n",
            "18:04 bilby INFO    : phi_12=Uniform(minimum=0, maximum=6.283185307179586, name='phi_12', latex_label='$\\\\Delta\\\\phi$', unit=None, boundary='periodic')\n",
            "18:04 bilby INFO    : phi_jl=Uniform(minimum=0, maximum=6.283185307179586, name='phi_jl', latex_label='$\\\\phi_{JL}$', unit=None, boundary='periodic')\n",
            "18:04 bilby INFO    : geocent_time=Uniform(minimum=1126259460.3999023, maximum=1126259464.3996582, name='geocent_time', latex_label='$t_c$', unit='$s$', boundary=None)\n",
            "18:04 bilby INFO    : mass_1=Constraint(minimum=5, maximum=100, name='mass_1', latex_label='$m_1$', unit=None)\n",
            "18:04 bilby INFO    : mass_2=Constraint(minimum=5, maximum=100, name='mass_2', latex_label='$m_2$', unit=None)\n",
            "18:04 bilby INFO    : Analysis likelihood class: <class 'bilby.gw.likelihood.base.GravitationalWaveTransient'>\n"
          ]
        },
        {
          "output_type": "error",
          "ename": "ValueError",
          "evalue": "operands could not be broadcast together with shapes (8193,) (2049,) ",
          "traceback": [
            "\u001b[0;31m---------------------------------------------------------------------------\u001b[0m",
            "\u001b[0;31mValueError\u001b[0m                                Traceback (most recent call last)",
            "\u001b[0;32m<ipython-input-128-aeccb06867f6>\u001b[0m in \u001b[0;36m<cell line: 36>\u001b[0;34m()\u001b[0m\n\u001b[1;32m     34\u001b[0m \u001b[0;34m\u001b[0m\u001b[0m\n\u001b[1;32m     35\u001b[0m \u001b[0;31m# Run sampler\u001b[0m\u001b[0;34m\u001b[0m\u001b[0;34m\u001b[0m\u001b[0m\n\u001b[0;32m---> 36\u001b[0;31m result = bilby.run_sampler(\n\u001b[0m\u001b[1;32m     37\u001b[0m     \u001b[0mlikelihood\u001b[0m\u001b[0;34m=\u001b[0m\u001b[0mlikelihood\u001b[0m\u001b[0;34m,\u001b[0m\u001b[0;34m\u001b[0m\u001b[0;34m\u001b[0m\u001b[0m\n\u001b[1;32m     38\u001b[0m     \u001b[0mpriors\u001b[0m\u001b[0;34m=\u001b[0m\u001b[0mpriors\u001b[0m\u001b[0;34m,\u001b[0m\u001b[0;34m\u001b[0m\u001b[0;34m\u001b[0m\u001b[0m\n",
            "\u001b[0;32m/usr/local/lib/python3.10/dist-packages/bilby/core/sampler/__init__.py\u001b[0m in \u001b[0;36mrun_sampler\u001b[0;34m(likelihood, priors, label, outdir, sampler, use_ratio, injection_parameters, conversion_function, plot, default_priors_file, clean, meta_data, save, gzip, result_class, npool, **kwargs)\u001b[0m\n\u001b[1;32m    262\u001b[0m     \u001b[0;32melif\u001b[0m \u001b[0misinstance\u001b[0m\u001b[0;34m(\u001b[0m\u001b[0msampler\u001b[0m\u001b[0;34m,\u001b[0m \u001b[0mstr\u001b[0m\u001b[0;34m)\u001b[0m\u001b[0;34m:\u001b[0m\u001b[0;34m\u001b[0m\u001b[0;34m\u001b[0m\u001b[0m\n\u001b[1;32m    263\u001b[0m         \u001b[0msampler_class\u001b[0m \u001b[0;34m=\u001b[0m \u001b[0mget_sampler_class\u001b[0m\u001b[0;34m(\u001b[0m\u001b[0msampler\u001b[0m\u001b[0;34m)\u001b[0m\u001b[0;34m\u001b[0m\u001b[0;34m\u001b[0m\u001b[0m\n\u001b[0;32m--> 264\u001b[0;31m         sampler = sampler_class(\n\u001b[0m\u001b[1;32m    265\u001b[0m             \u001b[0mlikelihood\u001b[0m\u001b[0;34m,\u001b[0m\u001b[0;34m\u001b[0m\u001b[0;34m\u001b[0m\u001b[0m\n\u001b[1;32m    266\u001b[0m             \u001b[0mpriors\u001b[0m\u001b[0;34m=\u001b[0m\u001b[0mpriors\u001b[0m\u001b[0;34m,\u001b[0m\u001b[0;34m\u001b[0m\u001b[0;34m\u001b[0m\u001b[0m\n",
            "\u001b[0;32m/usr/local/lib/python3.10/dist-packages/bilby/core/sampler/dynesty.py\u001b[0m in \u001b[0;36m__init__\u001b[0;34m(self, likelihood, priors, outdir, label, use_ratio, plot, skip_import_verification, check_point, check_point_plot, n_check_point, check_point_delta_t, resume, nestcheck, exit_code, print_method, maxmcmc, nact, naccept, rejection_sample_posterior, proposals, **kwargs)\u001b[0m\n\u001b[1;32m    219\u001b[0m         \u001b[0mself\u001b[0m\u001b[0;34m.\u001b[0m\u001b[0mprint_method\u001b[0m \u001b[0;34m=\u001b[0m \u001b[0mprint_method\u001b[0m\u001b[0;34m\u001b[0m\u001b[0;34m\u001b[0m\u001b[0m\n\u001b[1;32m    220\u001b[0m         \u001b[0mself\u001b[0m\u001b[0;34m.\u001b[0m\u001b[0m_translate_kwargs\u001b[0m\u001b[0;34m(\u001b[0m\u001b[0mkwargs\u001b[0m\u001b[0;34m)\u001b[0m\u001b[0;34m\u001b[0m\u001b[0;34m\u001b[0m\u001b[0m\n\u001b[0;32m--> 221\u001b[0;31m         super(Dynesty, self).__init__(\n\u001b[0m\u001b[1;32m    222\u001b[0m             \u001b[0mlikelihood\u001b[0m\u001b[0;34m=\u001b[0m\u001b[0mlikelihood\u001b[0m\u001b[0;34m,\u001b[0m\u001b[0;34m\u001b[0m\u001b[0;34m\u001b[0m\u001b[0m\n\u001b[1;32m    223\u001b[0m             \u001b[0mpriors\u001b[0m\u001b[0;34m=\u001b[0m\u001b[0mpriors\u001b[0m\u001b[0;34m,\u001b[0m\u001b[0;34m\u001b[0m\u001b[0;34m\u001b[0m\u001b[0m\n",
            "\u001b[0;32m/usr/local/lib/python3.10/dist-packages/bilby/core/sampler/base_sampler.py\u001b[0m in \u001b[0;36m__init__\u001b[0;34m(self, likelihood, priors, outdir, label, use_ratio, plot, skip_import_verification, injection_parameters, meta_data, result_class, likelihood_benchmark, soft_init, exit_code, npool, **kwargs)\u001b[0m\n\u001b[1;32m    254\u001b[0m         \u001b[0mself\u001b[0m\u001b[0;34m.\u001b[0m\u001b[0m_constraint_parameter_keys\u001b[0m \u001b[0;34m=\u001b[0m \u001b[0mlist\u001b[0m\u001b[0;34m(\u001b[0m\u001b[0;34m)\u001b[0m\u001b[0;34m\u001b[0m\u001b[0;34m\u001b[0m\u001b[0m\n\u001b[1;32m    255\u001b[0m         \u001b[0mself\u001b[0m\u001b[0;34m.\u001b[0m\u001b[0m_initialise_parameters\u001b[0m\u001b[0;34m(\u001b[0m\u001b[0;34m)\u001b[0m\u001b[0;34m\u001b[0m\u001b[0;34m\u001b[0m\u001b[0m\n\u001b[0;32m--> 256\u001b[0;31m         \u001b[0mself\u001b[0m\u001b[0;34m.\u001b[0m\u001b[0m_log_information_about_priors_and_likelihood\u001b[0m\u001b[0;34m(\u001b[0m\u001b[0;34m)\u001b[0m\u001b[0;34m\u001b[0m\u001b[0;34m\u001b[0m\u001b[0m\n\u001b[0m\u001b[1;32m    257\u001b[0m \u001b[0;34m\u001b[0m\u001b[0m\n\u001b[1;32m    258\u001b[0m         \u001b[0mself\u001b[0m\u001b[0;34m.\u001b[0m\u001b[0mexit_code\u001b[0m \u001b[0;34m=\u001b[0m \u001b[0mexit_code\u001b[0m\u001b[0;34m\u001b[0m\u001b[0;34m\u001b[0m\u001b[0m\n",
            "\u001b[0;32m/usr/local/lib/python3.10/dist-packages/bilby/core/sampler/base_sampler.py\u001b[0m in \u001b[0;36m_log_information_about_priors_and_likelihood\u001b[0;34m(self)\u001b[0m\n\u001b[1;32m    375\u001b[0m         \u001b[0mlogger\u001b[0m\u001b[0;34m.\u001b[0m\u001b[0minfo\u001b[0m\u001b[0;34m(\u001b[0m\u001b[0;34mf\"Analysis likelihood class: {self.likelihood.__class__}\"\u001b[0m\u001b[0;34m)\u001b[0m\u001b[0;34m\u001b[0m\u001b[0;34m\u001b[0m\u001b[0m\n\u001b[1;32m    376\u001b[0m         logger.info(\n\u001b[0;32m--> 377\u001b[0;31m             \u001b[0;34mf\"Analysis likelihood noise evidence: {self.likelihood.noise_log_likelihood()}\"\u001b[0m\u001b[0;34m\u001b[0m\u001b[0;34m\u001b[0m\u001b[0m\n\u001b[0m\u001b[1;32m    378\u001b[0m         )\n\u001b[1;32m    379\u001b[0m \u001b[0;34m\u001b[0m\u001b[0m\n",
            "\u001b[0;32m/usr/local/lib/python3.10/dist-packages/bilby/gw/likelihood/base.py\u001b[0m in \u001b[0;36mnoise_log_likelihood\u001b[0;34m(self)\u001b[0m\n\u001b[1;32m    401\u001b[0m         \u001b[0;31m# only compute likelihood if called for the 1st time\u001b[0m\u001b[0;34m\u001b[0m\u001b[0;34m\u001b[0m\u001b[0m\n\u001b[1;32m    402\u001b[0m         \u001b[0;32mif\u001b[0m \u001b[0mself\u001b[0m\u001b[0;34m.\u001b[0m\u001b[0m_noise_log_likelihood_value\u001b[0m \u001b[0;32mis\u001b[0m \u001b[0;32mNone\u001b[0m\u001b[0;34m:\u001b[0m\u001b[0;34m\u001b[0m\u001b[0;34m\u001b[0m\u001b[0m\n\u001b[0;32m--> 403\u001b[0;31m             \u001b[0mself\u001b[0m\u001b[0;34m.\u001b[0m\u001b[0m_noise_log_likelihood_value\u001b[0m \u001b[0;34m=\u001b[0m \u001b[0mself\u001b[0m\u001b[0;34m.\u001b[0m\u001b[0m_calculate_noise_log_likelihood\u001b[0m\u001b[0;34m(\u001b[0m\u001b[0;34m)\u001b[0m\u001b[0;34m\u001b[0m\u001b[0;34m\u001b[0m\u001b[0m\n\u001b[0m\u001b[1;32m    404\u001b[0m         \u001b[0;32mreturn\u001b[0m \u001b[0mself\u001b[0m\u001b[0;34m.\u001b[0m\u001b[0m_noise_log_likelihood_value\u001b[0m\u001b[0;34m\u001b[0m\u001b[0;34m\u001b[0m\u001b[0m\n\u001b[1;32m    405\u001b[0m \u001b[0;34m\u001b[0m\u001b[0m\n",
            "\u001b[0;32m/usr/local/lib/python3.10/dist-packages/bilby/gw/likelihood/base.py\u001b[0m in \u001b[0;36m_calculate_noise_log_likelihood\u001b[0;34m(self)\u001b[0m\n\u001b[1;32m    392\u001b[0m             \u001b[0mmask\u001b[0m \u001b[0;34m=\u001b[0m \u001b[0minterferometer\u001b[0m\u001b[0;34m.\u001b[0m\u001b[0mfrequency_mask\u001b[0m\u001b[0;34m\u001b[0m\u001b[0;34m\u001b[0m\u001b[0m\n\u001b[1;32m    393\u001b[0m             log_l -= noise_weighted_inner_product(\n\u001b[0;32m--> 394\u001b[0;31m                 \u001b[0minterferometer\u001b[0m\u001b[0;34m.\u001b[0m\u001b[0mfrequency_domain_strain\u001b[0m\u001b[0;34m[\u001b[0m\u001b[0mmask\u001b[0m\u001b[0;34m]\u001b[0m\u001b[0;34m,\u001b[0m\u001b[0;34m\u001b[0m\u001b[0;34m\u001b[0m\u001b[0m\n\u001b[0m\u001b[1;32m    395\u001b[0m                 \u001b[0minterferometer\u001b[0m\u001b[0;34m.\u001b[0m\u001b[0mfrequency_domain_strain\u001b[0m\u001b[0;34m[\u001b[0m\u001b[0mmask\u001b[0m\u001b[0;34m]\u001b[0m\u001b[0;34m,\u001b[0m\u001b[0;34m\u001b[0m\u001b[0;34m\u001b[0m\u001b[0m\n\u001b[1;32m    396\u001b[0m                 \u001b[0minterferometer\u001b[0m\u001b[0;34m.\u001b[0m\u001b[0mpower_spectral_density_array\u001b[0m\u001b[0;34m[\u001b[0m\u001b[0mmask\u001b[0m\u001b[0;34m]\u001b[0m\u001b[0;34m,\u001b[0m\u001b[0;34m\u001b[0m\u001b[0;34m\u001b[0m\u001b[0m\n",
            "\u001b[0;32m/usr/local/lib/python3.10/dist-packages/bilby/core/utils/introspection.py\u001b[0m in \u001b[0;36m__get__\u001b[0;34m(self, instance, owner)\u001b[0m\n\u001b[1;32m    146\u001b[0m \u001b[0;34m\u001b[0m\u001b[0m\n\u001b[1;32m    147\u001b[0m     \u001b[0;32mdef\u001b[0m \u001b[0m__get__\u001b[0m\u001b[0;34m(\u001b[0m\u001b[0mself\u001b[0m\u001b[0;34m,\u001b[0m \u001b[0minstance\u001b[0m\u001b[0;34m,\u001b[0m \u001b[0mowner\u001b[0m\u001b[0;34m)\u001b[0m\u001b[0;34m:\u001b[0m\u001b[0;34m\u001b[0m\u001b[0;34m\u001b[0m\u001b[0m\n\u001b[0;32m--> 148\u001b[0;31m         \u001b[0;32mreturn\u001b[0m \u001b[0mgetattr\u001b[0m\u001b[0;34m(\u001b[0m\u001b[0mgetattr\u001b[0m\u001b[0;34m(\u001b[0m\u001b[0minstance\u001b[0m\u001b[0;34m,\u001b[0m \u001b[0mself\u001b[0m\u001b[0;34m.\u001b[0m\u001b[0mcontainer_instance_name\u001b[0m\u001b[0;34m)\u001b[0m\u001b[0;34m,\u001b[0m \u001b[0mself\u001b[0m\u001b[0;34m.\u001b[0m\u001b[0mproperty_name\u001b[0m\u001b[0;34m)\u001b[0m\u001b[0;34m\u001b[0m\u001b[0;34m\u001b[0m\u001b[0m\n\u001b[0m\u001b[1;32m    149\u001b[0m \u001b[0;34m\u001b[0m\u001b[0m\n\u001b[1;32m    150\u001b[0m     \u001b[0;32mdef\u001b[0m \u001b[0m__set__\u001b[0m\u001b[0;34m(\u001b[0m\u001b[0mself\u001b[0m\u001b[0;34m,\u001b[0m \u001b[0minstance\u001b[0m\u001b[0;34m,\u001b[0m \u001b[0mvalue\u001b[0m\u001b[0;34m)\u001b[0m\u001b[0;34m:\u001b[0m\u001b[0;34m\u001b[0m\u001b[0;34m\u001b[0m\u001b[0m\n",
            "\u001b[0;32m/usr/local/lib/python3.10/dist-packages/bilby/gw/detector/strain_data.py\u001b[0m in \u001b[0;36mfrequency_domain_strain\u001b[0;34m(self)\u001b[0m\n\u001b[1;32m    215\u001b[0m         \"\"\"\n\u001b[1;32m    216\u001b[0m         \u001b[0;32mif\u001b[0m \u001b[0mself\u001b[0m\u001b[0;34m.\u001b[0m\u001b[0m_frequency_domain_strain\u001b[0m \u001b[0;32mis\u001b[0m \u001b[0;32mnot\u001b[0m \u001b[0;32mNone\u001b[0m\u001b[0;34m:\u001b[0m\u001b[0;34m\u001b[0m\u001b[0;34m\u001b[0m\u001b[0m\n\u001b[0;32m--> 217\u001b[0;31m             \u001b[0;32mreturn\u001b[0m \u001b[0mself\u001b[0m\u001b[0;34m.\u001b[0m\u001b[0m_frequency_domain_strain\u001b[0m \u001b[0;34m*\u001b[0m \u001b[0mself\u001b[0m\u001b[0;34m.\u001b[0m\u001b[0mfrequency_mask\u001b[0m\u001b[0;34m\u001b[0m\u001b[0;34m\u001b[0m\u001b[0m\n\u001b[0m\u001b[1;32m    218\u001b[0m         \u001b[0;32melif\u001b[0m \u001b[0mself\u001b[0m\u001b[0;34m.\u001b[0m\u001b[0m_time_domain_strain\u001b[0m \u001b[0;32mis\u001b[0m \u001b[0;32mnot\u001b[0m \u001b[0;32mNone\u001b[0m\u001b[0;34m:\u001b[0m\u001b[0;34m\u001b[0m\u001b[0;34m\u001b[0m\u001b[0m\n\u001b[1;32m    219\u001b[0m             logger.debug(\"Generating frequency domain strain from given time \"\n",
            "\u001b[0;31mValueError\u001b[0m: operands could not be broadcast together with shapes (8193,) (2049,) "
          ]
        }
      ]
    }
  ]
}