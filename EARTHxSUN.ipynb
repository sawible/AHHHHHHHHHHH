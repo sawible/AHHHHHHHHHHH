{
  "nbformat": 4,
  "nbformat_minor": 0,
  "metadata": {
    "colab": {
      "provenance": [],
      "authorship_tag": "ABX9TyN9OrrtCwP7Ka5YCH6EOYeB",
      "include_colab_link": true
    },
    "kernelspec": {
      "name": "python3",
      "display_name": "Python 3"
    },
    "language_info": {
      "name": "python"
    }
  },
  "cells": [
    {
      "cell_type": "markdown",
      "metadata": {
        "id": "view-in-github",
        "colab_type": "text"
      },
      "source": [
        "<a href=\"https://colab.research.google.com/github/sawible/AHHHHHHHHHHH/blob/main/EARTHxSUN.ipynb\" target=\"_parent\"><img src=\"https://colab.research.google.com/assets/colab-badge.svg\" alt=\"Open In Colab\"/></a>"
      ]
    },
    {
      "cell_type": "code",
      "source": [
        "print(\"Helloooo\")"
      ],
      "metadata": {
        "colab": {
          "base_uri": "https://localhost:8080/"
        },
        "id": "-JVjSCIiKw2I",
        "outputId": "cee72d35-0b2e-4042-c329-aaa95364e9ea"
      },
      "execution_count": null,
      "outputs": [
        {
          "output_type": "stream",
          "name": "stdout",
          "text": [
            "Helloooo\n"
          ]
        }
      ]
    },
    {
      "cell_type": "markdown",
      "source": [
        "$V = \\sqrt\\frac{GM}{R}$, this is the equation we will use to calculate orbital velocity"
      ],
      "metadata": {
        "id": "pG6-JRIL44WC"
      }
    },
    {
      "cell_type": "code",
      "source": [
        "import astropy.constants as const #import a python package to call the value of certain constants\n",
        "import astropy.units as u # import a python package to call certain units"
      ],
      "metadata": {
        "id": "ukpE5FUa5cPg"
      },
      "execution_count": null,
      "outputs": []
    },
    {
      "cell_type": "code",
      "source": [
        "M = 1 * u.solMass # define M as a physical quantity with a value and unit\n",
        "print(M.to(u.kg)) # print M in unit of kilograms"
      ],
      "metadata": {
        "colab": {
          "base_uri": "https://localhost:8080/"
        },
        "id": "wvlPMAZq6gwf",
        "outputId": "0a11b2b5-8612-4a26-f5d3-8f8124f9b2c3"
      },
      "execution_count": 19,
      "outputs": [
        {
          "output_type": "stream",
          "name": "stdout",
          "text": [
            "1.988409870698051e+30 kg\n"
          ]
        }
      ]
    },
    {
      "cell_type": "code",
      "source": [
        "R = 1 * u.au # define R as the radius of the Earth's orbit arond the Sun  in astronomical units\n",
        "print(R.to(u.km)) # print"
      ],
      "metadata": {
        "colab": {
          "base_uri": "https://localhost:8080/"
        },
        "id": "Rpw14sdS7XTP",
        "outputId": "9b36c726-61ad-4efe-d1ab-51b7fbee6fe6"
      },
      "execution_count": 20,
      "outputs": [
        {
          "output_type": "stream",
          "name": "stdout",
          "text": [
            "149597870.7 km\n"
          ]
        }
      ]
    },
    {
      "cell_type": "code",
      "source": [
        "G = const.G # define G as gravitational constant\n",
        "print(G.si) # print out G n si unit"
      ],
      "metadata": {
        "colab": {
          "base_uri": "https://localhost:8080/"
        },
        "id": "oTTpj63F8GB9",
        "outputId": "32071d23-b0c7-4161-be09-64e784226d3b"
      },
      "execution_count": 12,
      "outputs": [
        {
          "output_type": "stream",
          "name": "stdout",
          "text": [
            "  Name   = Gravitational constant\n",
            "  Value  = 6.6743e-11\n",
            "  Uncertainty  = 1.5e-15\n",
            "  Unit  = m3 / (kg s2)\n",
            "  Reference = CODATA 2018\n"
          ]
        }
      ]
    },
    {
      "cell_type": "code",
      "source": [
        "import numpy as np # import math package"
      ],
      "metadata": {
        "id": "0KkacaKb8vKn"
      },
      "execution_count": 21,
      "outputs": []
    },
    {
      "cell_type": "code",
      "source": [
        "V = np.sqrt((G * M)/R) # calculating orbital velocity based on universal equation\n",
        "print(V.to(u.km/u.s)) # Prtint out orbital velocity of Earth around Sun in km/s"
      ],
      "metadata": {
        "colab": {
          "base_uri": "https://localhost:8080/"
        },
        "id": "PpXjk3fP86M3",
        "outputId": "280f0c96-8e8d-4c1d-fdd0-e5c287048ad3"
      },
      "execution_count": 18,
      "outputs": [
        {
          "output_type": "stream",
          "name": "stdout",
          "text": [
            "29.784691829676934 km / s\n"
          ]
        }
      ]
    },
    {
      "cell_type": "code",
      "source": [
        "R_jupiter = 5.2 * u.au # Orbital radius of jupiter"
      ],
      "metadata": {
        "id": "-TaeeKg9_wdJ"
      },
      "execution_count": 22,
      "outputs": []
    },
    {
      "cell_type": "code",
      "source": [
        "V_jupiter = np.sqrt((G*M)/R_jupiter) # calculating orbital velocity of jupiter based on universal equation\n",
        "print(V_jupiter.to(u.km/u.s)) # Print out orbital velocity of Jupiter around Sun in km/s"
      ],
      "metadata": {
        "colab": {
          "base_uri": "https://localhost:8080/"
        },
        "id": "wqxtz1d4AHSX",
        "outputId": "c6d872ec-232e-4b51-97a3-1cbaf720af60"
      },
      "execution_count": 23,
      "outputs": [
        {
          "output_type": "stream",
          "name": "stdout",
          "text": [
            "13.061451410903354 km / s\n"
          ]
        }
      ]
    }
  ]
}